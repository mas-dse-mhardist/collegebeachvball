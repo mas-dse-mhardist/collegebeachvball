{
 "cells": [
  {
   "cell_type": "code",
   "execution_count": 121,
   "metadata": {},
   "outputs": [
    {
     "name": "stdout",
     "output_type": "stream",
     "text": [
      "44\n",
      "39\n"
     ]
    }
   ],
   "source": [
    "df_2018 = pd.read_csv('Data/Competition.csv').drop_duplicates()\n",
    "print (len(df_2018[df_2018['last_name'] == 'Sponcil ']))\n",
    "print (len(d_2018['matches'][d_2018['matches']['last_name'] == 'Sponcil']))"
   ]
  }
 ],
 "metadata": {
  "kernelspec": {
   "display_name": "Python 3",
   "language": "python",
   "name": "python3"
  },
  "language_info": {
   "codemirror_mode": {
    "name": "ipython",
    "version": 3
   },
   "file_extension": ".py",
   "mimetype": "text/x-python",
   "name": "python",
   "nbconvert_exporter": "python",
   "pygments_lexer": "ipython3",
   "version": "3.6.5"
  }
 },
 "nbformat": 4,
 "nbformat_minor": 2
}
